{
 "cells": [
  {
   "cell_type": "code",
   "execution_count": 2,
   "metadata": {},
   "outputs": [
    {
     "name": "stdout",
     "output_type": "stream",
     "text": [
      "Grade averages:\n",
      "Please enter a number, 1-100: 99\n",
      "Please enter a number, 1-100: 58\n",
      "Please enter a number, 1-100: 97\n",
      "Grade average:  84.66666666666667\n"
     ]
    }
   ],
   "source": [
    "while True: \n",
    "    print(\"Grade averages:\")\n",
    "    try:\n",
    "        test_1 = int(input(\"Please enter a number, 1-100: \"))\n",
    "        test_2 = int(input(\"Please enter a number, 1-100: \"))\n",
    "        test_3 = int(input(\"Please enter a number, 1-100: \"))\n",
    "        grade_avg = (test_1 + test_2 + test_3) / 3\n",
    "    except ValueError:\n",
    "        print(\"That is not a number\")\n",
    "    else:\n",
    "        print(\"Grade average: \", grade_avg)\n",
    "        break"
   ]
  },
  {
   "cell_type": "code",
   "execution_count": 4,
   "metadata": {},
   "outputs": [
    {
     "name": "stdout",
     "output_type": "stream",
     "text": [
      "Fun with Divsion!\n",
      "Please enter a number: 87\n",
      "Please enter a number: 87\n",
      "result =  1.0\n",
      "\n",
      "Code modeled off of code from Deitel, page 333\n"
     ]
    }
   ],
   "source": [
    "while True:  \n",
    "    print(\"Fun with Divsion!\")\n",
    "    try:\n",
    "        x = int(input(\"Please enter a number: \"))\n",
    "        y = int(input(\"Please enter a number: \"))\n",
    "        fraction = x/y\n",
    "    except ValueError:\n",
    "        print(\"That is not a number\")\n",
    "    except ZeroDivisionError:\n",
    "        print(\"Cannot divide by zero\")\n",
    "    else: \n",
    "        print(\"result = \", fraction)\n",
    "        break\n",
    "print('')\n",
    "print(\"Code modeled off of code from Deitel, page 333\")"
   ]
  },
  {
   "cell_type": "code",
   "execution_count": 7,
   "metadata": {},
   "outputs": [
    {
     "name": "stdout",
     "output_type": "stream",
     "text": [
      "This file does not exist!\n",
      "\n",
      "code modeled off of code from https://www.tutorialspoint.com/python/python_exceptions.htm\n"
     ]
    }
   ],
   "source": [
    "try:\n",
    "    file_handler = open('test_file.txt', 'r')\n",
    "    file_handler.write(\"Test text\")\n",
    "except IOError:\n",
    "    print(\"This file does not exist!\")\n",
    "else:\n",
    "    print(\"File write successful\")\n",
    "    file_handler.close()\n",
    "          \n",
    "print('')\n",
    "print(\"code modeled off of code from https://www.tutorialspoint.com/python/python_exceptions.htm\")"
   ]
  },
  {
   "cell_type": "code",
   "execution_count": null,
   "metadata": {},
   "outputs": [],
   "source": []
  }
 ],
 "metadata": {
  "kernelspec": {
   "display_name": "Python 3",
   "language": "python",
   "name": "python3"
  },
  "language_info": {
   "codemirror_mode": {
    "name": "ipython",
    "version": 3
   },
   "file_extension": ".py",
   "mimetype": "text/x-python",
   "name": "python",
   "nbconvert_exporter": "python",
   "pygments_lexer": "ipython3",
   "version": "3.7.4"
  }
 },
 "nbformat": 4,
 "nbformat_minor": 2
}
