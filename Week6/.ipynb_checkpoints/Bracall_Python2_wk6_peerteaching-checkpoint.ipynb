{
 "cells": [
  {
   "cell_type": "markdown",
   "metadata": {},
   "source": [
    "# Exceptions\n",
    "Exceptions are a sign that an error has occurred (Deitel, 2020). Exceptions usually include a traceback that indicates where the error occurred. In Python, there are built in exceptions and user defined exceptions. \n",
    "\n",
    "\n",
    "* Examples of Built in Exceptions \n",
    "    * ValueError -Raised when an operation or function receives an argument that has the right type but an inappropriate value\n",
    "    * NameError - Raised when a local or global name is not found\n",
    "    * TypeError - Raised when an operation or function is applied to an object of inappropriate type. The associated value is a string giving details about the type mismatch.\n"
   ]
  },
  {
   "cell_type": "markdown",
   "metadata": {},
   "source": [
    "What exception will the below code produce?"
   ]
  },
  {
   "cell_type": "code",
   "execution_count": null,
   "metadata": {
    "scrolled": false
   },
   "outputs": [],
   "source": [
    "print('Example 1:')\n",
    "example = 1758\n",
    "for item in example:\n",
    "    print (item, sep ='')"
   ]
  },
  {
   "cell_type": "markdown",
   "metadata": {},
   "source": [
    "What error will the below code produce?"
   ]
  },
  {
   "cell_type": "code",
   "execution_count": null,
   "metadata": {},
   "outputs": [],
   "source": [
    "print('Example 2:')\n",
    "example_list = [1, 2, 3, 4, 5]\n",
    "for item in ex_list:\n",
    "    print(item)"
   ]
  },
  {
   "cell_type": "markdown",
   "metadata": {},
   "source": [
    "What error will the below code produce?"
   ]
  },
  {
   "cell_type": "code",
   "execution_count": null,
   "metadata": {},
   "outputs": [],
   "source": [
    "print('Example 3:')\n",
    "example_var = int('number' + 85)"
   ]
  },
  {
   "cell_type": "code",
   "execution_count": null,
   "metadata": {},
   "outputs": [],
   "source": [
    "print('Example 4:')\n",
    "pet_list = ['dog', 'cat', 'turtle', 'gerbil', 'hermit crab']\n",
    "\n",
    "for pet in pet_list\n",
    "    print(pet)"
   ]
  },
  {
   "cell_type": "markdown",
   "metadata": {},
   "source": [
    "# Solutions \n",
    "* Example 1: A string is not interable, so a TypeError will be produced\n",
    "* Example 2: \"ex-list\" is not defined, so a NameError will be produced\n",
    "* Example 3: A string is not an integer, so a ValueError will produced\n",
    "* Example 4: The for statement is not formatted correctly, so a SyntaxError will be produced"
   ]
  },
  {
   "cell_type": "markdown",
   "metadata": {},
   "source": [
    "# Fix the Examples to Remove the Errors:"
   ]
  },
  {
   "cell_type": "code",
   "execution_count": null,
   "metadata": {},
   "outputs": [],
   "source": [
    "print('Example 1:')\n",
    "example = 1758\n",
    "for item in example:\n",
    "    print (item, sep ='')"
   ]
  },
  {
   "cell_type": "code",
   "execution_count": null,
   "metadata": {},
   "outputs": [],
   "source": [
    "print('Example 2:')\n",
    "example_list = [1, 2, 3, 4, 5]\n",
    "for item in ex_list:\n",
    "    print(item)"
   ]
  },
  {
   "cell_type": "code",
   "execution_count": null,
   "metadata": {},
   "outputs": [],
   "source": [
    "print('Example 3:')\n",
    "example_var = int('number' + 85)"
   ]
  },
  {
   "cell_type": "code",
   "execution_count": null,
   "metadata": {},
   "outputs": [],
   "source": [
    "print('Example 4:')\n",
    "pet_list = ['dog', 'cat', 'turtle', 'gerbil', 'hermit crab']\n",
    "\n",
    "for pet in pet_list\n",
    "    print(pet)"
   ]
  },
  {
   "cell_type": "markdown",
   "metadata": {},
   "source": [
    "# Exception Handling\n",
    "You can write code that handles exceptions. \n",
    "\n",
    "* The try statement specifies exception handlers and/or cleanup code for a group of statements:\n",
    "* The except clause(s) specify one or more exception handlers.\n",
    "* If all expressions are false, the suite of the else clause, if present, is executed.\n",
    "* If the finally clause is present, it specifies a ‘cleanup’ handler. \n",
    "\n",
    "from python.org"
   ]
  },
  {
   "cell_type": "code",
   "execution_count": null,
   "metadata": {},
   "outputs": [],
   "source": [
    "try:\n",
    "    print('try suite that raises an exception:')\n",
    "    int('hello')\n",
    "    print('this will not execute')\n",
    "except ValueError:\n",
    "    print('a value error occurred')\n",
    "else:\n",
    "    print('else will not exeucte because an exception occurred')\n",
    "finally:\n",
    "    print('finally always executes')\n",
    "    \n",
    "print('Deitel, 2020')"
   ]
  },
  {
   "cell_type": "markdown",
   "metadata": {},
   "source": [
    "## The try statement works as follows:\n",
    "\n",
    "\"First, the try clause (the statement(s) between the try and except keywords) is executed.\n",
    "\n",
    "If no exception occurs, the except clause is skipped and execution of the try statement is finished.\n",
    "\n",
    "If an exception occurs during execution of the try clause, the rest of the clause is skipped. Then if its type matches the exception named after the except keyword, the except clause is executed, and then execution continues after the try statement.\n",
    "\n",
    "If an exception occurs which does not match the exception named in the except clause, it is passed on to outer try statements; if no handler is found, it is an unhandled exception and execution stops with a message as shown above.\"\n",
    "\n",
    "from python.org"
   ]
  },
  {
   "cell_type": "markdown",
   "metadata": {},
   "source": [
    "## See try and except in action"
   ]
  },
  {
   "cell_type": "code",
   "execution_count": null,
   "metadata": {},
   "outputs": [],
   "source": [
    "while True:\n",
    "    try:\n",
    "        x = int(input('Please enter a number: '))\n",
    "        break\n",
    "    except ValueError:\n",
    "        print('That is not a valid number')\n",
    "        \n",
    "print('code from python.org')"
   ]
  },
  {
   "cell_type": "code",
   "execution_count": null,
   "metadata": {},
   "outputs": [],
   "source": [
    "while True: \n",
    "    print(\"Grade averages:\")\n",
    "    try:\n",
    "        test_1 = int(input(\"Please enter a number, 1-100: \"))\n",
    "        test_2 = int(input(\"Please enter a number, 1-100: \"))\n",
    "        test_3 = int(input(\"Please enter a number, 1-100: \"))\n",
    "        grade_avg = (test_1 + test_2 + test_3) / 3\n",
    "    except ValueError:\n",
    "        print(\"That is not a number\")\n",
    "    else:\n",
    "        print(\"Grade average: \", grade_avg)\n",
    "        break"
   ]
  },
  {
   "cell_type": "code",
   "execution_count": null,
   "metadata": {},
   "outputs": [],
   "source": [
    "while True:  \n",
    "    print(\"Fun with Divsion!\")\n",
    "    try:\n",
    "        x = int(input(\"Please enter a number: \"))\n",
    "        y = int(input(\"Please enter a number: \"))\n",
    "        fraction = x/y\n",
    "    except ValueError:\n",
    "        print(\"That is not a number\")\n",
    "    except ZeroDivisionError:\n",
    "        print(\"Cannot divide by zero\")\n",
    "    else: \n",
    "        print(\"result = \", fraction)\n",
    "        break\n",
    "print('')\n",
    "print(\"Code modeled off of code from Deitel, page 333\")"
   ]
  },
  {
   "cell_type": "code",
   "execution_count": null,
   "metadata": {},
   "outputs": [],
   "source": [
    "try:\n",
    "    file_handler = open('test_file.txt', 'r')\n",
    "    file_handler.write(\"Test text\")\n",
    "except IOError:\n",
    "    print(\"This file does not exist!\")\n",
    "else:\n",
    "    print(\"File write successful\")\n",
    "    file_handler.close()\n",
    "          \n",
    "print('')\n",
    "print(\"code modeled off of code from https://www.tutorialspoint.com/python/python_exceptions.htm\")"
   ]
  }
 ],
 "metadata": {
  "kernelspec": {
   "display_name": "Python 3",
   "language": "python",
   "name": "python3"
  },
  "language_info": {
   "codemirror_mode": {
    "name": "ipython",
    "version": 3
   },
   "file_extension": ".py",
   "mimetype": "text/x-python",
   "name": "python",
   "nbconvert_exporter": "python",
   "pygments_lexer": "ipython3",
   "version": "3.7.4"
  }
 },
 "nbformat": 4,
 "nbformat_minor": 2
}
