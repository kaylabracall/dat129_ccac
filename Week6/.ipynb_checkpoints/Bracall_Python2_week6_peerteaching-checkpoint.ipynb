{
 "cells": [
  {
   "cell_type": "markdown",
   "metadata": {},
   "source": [
    "# Exceptions\n",
    "Exceptions are a sign that an error has occurred (Deitel, 2020). Exceptions usually include a traceback that indicates where the error occurred. In Python, there are built in exceptions and user defined exceptions. \n",
    "\n",
    "\n",
    "* Examples of Built in Exceptions \n",
    "    * ValueError -Raised when an operation or function receives an argument that has the right type but an inappropriate value\n",
    "    * NameError - Raised when a local or global name is not found\n",
    "    * TypeError - Raised when an operation or function is applied to an object of inappropriate type. The associated value is a string giving details about the type mismatch.\n"
   ]
  },
  {
   "cell_type": "code",
   "execution_count": null,
   "metadata": {},
   "outputs": [],
   "source": []
  }
 ],
 "metadata": {
  "kernelspec": {
   "display_name": "Python 3",
   "language": "python",
   "name": "python3"
  },
  "language_info": {
   "codemirror_mode": {
    "name": "ipython",
    "version": 3
   },
   "file_extension": ".py",
   "mimetype": "text/x-python",
   "name": "python",
   "nbconvert_exporter": "python",
   "pygments_lexer": "ipython3",
   "version": "3.7.4"
  }
 },
 "nbformat": 4,
 "nbformat_minor": 2
}
