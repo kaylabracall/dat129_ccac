{
 "cells": [
  {
   "cell_type": "code",
   "execution_count": 20,
   "metadata": {},
   "outputs": [],
   "source": [
    "from zipfile import ZipFile\n",
    "import os\n",
    "import re\n",
    "\n",
    "regexp = re.compile('(\\.\\w+)$')"
   ]
  },
  {
   "cell_type": "code",
   "execution_count": 24,
   "metadata": {},
   "outputs": [],
   "source": [
    "def interrogateFiles(dirname, filelist):\n",
    "    ''' \n",
    "    Take in a directory name and its content files and count files with .jpg extension \n",
    "    '''\n",
    "    for file in filelist:\n",
    "        fn = dirname + str(os.sep) + file\n",
    "        print('filename: ', fn)\n",
    "        if os.path.isfile(fn):\n",
    "            print('File size: ', end = '')\n",
    "            print(os.path.getsize(fn), 'B')\n",
    "            match = re.search(regexp, fn)\n",
    "            if match:\n",
    "                print('extension: ', match.group(0))"
   ]
  },
  {
   "cell_type": "code",
   "execution_count": 25,
   "metadata": {},
   "outputs": [],
   "source": [
    "def traverse(walkroot):  \n",
    "    for loc, dir, files in os.walk(walkroot): \n",
    "        print(loc, ' ', dir, ' ', files)\n",
    "        interrogateFiles(loc, files)"
   ]
  },
  {
   "cell_type": "code",
   "execution_count": 26,
   "metadata": {},
   "outputs": [
    {
     "name": "stdout",
     "output_type": "stream",
     "text": [
      ".   ['.ipynb_checkpoints', 'DogBreeds']   ['DogBreeds.zip', 'dog_breeds_tree.ipynb']\n",
      "filename:  .\\DogBreeds.zip\n",
      "File size: 3290 B\n",
      "extension:  .zip\n",
      "filename:  .\\dog_breeds_tree.ipynb\n",
      "File size: 3960 B\n",
      "extension:  .ipynb\n",
      ".\\.ipynb_checkpoints   []   ['dog_breeds_tree-checkpoint.ipynb']\n",
      "filename:  .\\.ipynb_checkpoints\\dog_breeds_tree-checkpoint.ipynb\n",
      "File size: 1163 B\n",
      "extension:  .ipynb\n",
      ".\\DogBreeds   ['DogBreeds']   []\n",
      ".\\DogBreeds\\DogBreeds   ['Herding Group', 'Hound Group', 'Non-Sporting Group', 'Sporting Group', 'Terrier Group', 'Toy Group', 'Working Group']   []\n",
      ".\\DogBreeds\\DogBreeds\\Herding Group   []   ['AUSTRALIAN SHEPHERD.htm', 'BELGIAN SHEEPDOG.htm', 'BORDER COLLIE.htm']\n",
      "filename:  .\\DogBreeds\\DogBreeds\\Herding Group\\AUSTRALIAN SHEPHERD.htm\n",
      "File size: 606 B\n",
      "extension:  .htm\n",
      "filename:  .\\DogBreeds\\DogBreeds\\Herding Group\\BELGIAN SHEEPDOG.htm\n",
      "File size: 470 B\n",
      "extension:  .htm\n",
      "filename:  .\\DogBreeds\\DogBreeds\\Herding Group\\BORDER COLLIE.htm\n",
      "File size: 474 B\n",
      "extension:  .htm\n",
      ".\\DogBreeds\\DogBreeds\\Hound Group   []   ['TYPES OF HOUNDS.htm']\n",
      "filename:  .\\DogBreeds\\DogBreeds\\Hound Group\\TYPES OF HOUNDS.htm\n",
      "File size: 490 B\n",
      "extension:  .htm\n",
      ".\\DogBreeds\\DogBreeds\\Non-Sporting Group   ['New folder']   ['NON SPORTING GROUP.htm']\n",
      "filename:  .\\DogBreeds\\DogBreeds\\Non-Sporting Group\\NON SPORTING GROUP.htm\n",
      "File size: 514 B\n",
      "extension:  .htm\n",
      ".\\DogBreeds\\DogBreeds\\Non-Sporting Group\\New folder   []   []\n",
      ".\\DogBreeds\\DogBreeds\\Sporting Group   []   []\n",
      ".\\DogBreeds\\DogBreeds\\Terrier Group   []   []\n",
      ".\\DogBreeds\\DogBreeds\\Toy Group   []   []\n",
      ".\\DogBreeds\\DogBreeds\\Working Group   []   []\n"
     ]
    }
   ],
   "source": [
    "traverse('.')"
   ]
  },
  {
   "cell_type": "code",
   "execution_count": null,
   "metadata": {},
   "outputs": [],
   "source": []
  }
 ],
 "metadata": {
  "kernelspec": {
   "display_name": "Python 3",
   "language": "python",
   "name": "python3"
  },
  "language_info": {
   "codemirror_mode": {
    "name": "ipython",
    "version": 3
   },
   "file_extension": ".py",
   "mimetype": "text/x-python",
   "name": "python",
   "nbconvert_exporter": "python",
   "pygments_lexer": "ipython3",
   "version": "3.7.4"
  }
 },
 "nbformat": 4,
 "nbformat_minor": 2
}
