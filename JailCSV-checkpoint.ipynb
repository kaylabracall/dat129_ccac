{
 "cells": [
  {
   "cell_type": "code",
   "execution_count": null,
   "metadata": {},
   "outputs": [],
   "source": [
    "import csv\n",
    "\n",
    "def processJailCSV():\n",
    "    '''This function iterates over Allegheny count jail census data to tabulate inmates by race: \n",
    "        To what degree does the inmate populuation by race reflect the composition of the county?\n",
    "    '''\n",
    "    \n",
    "    file = open('AJC_Jun_19.csv', newline= '')\n",
    "    reader = csv.DictReader(file)\n",
    "    raceCount = {'B':0, 'W' :0}\n",
    "    focusDate = '2019-06-01'\n",
    "\n",
    "    for row in reader:\n",
    "        if row ['Date'] == focusDate:\n",
    "            # ask dictionary if race key is present\n",
    "            if row['Race'] == 'B':\n",
    "                raceCount['B'] = raceCount['B'] +1\n",
    "            elif row['Race'] == 'W':\n",
    "                raceCount['W'] = raceCount['W'] +1\n",
    "    file.close()\n",
    "\n",
    "    return raceCount\n",
    "\n",
    "   "
   ]
  },
  {
   "cell_type": "code",
   "execution_count": null,
   "metadata": {},
   "outputs": [],
   "source": [
    "def computePercents (raceDict):\n",
    "    total = 0\n",
    "    # add up the values for each race in our dictionary \n",
    "    for k in raceDict:\n",
    "        total = total + raceDict[k]\n",
    "    for k in raceDict:\n",
    "        perc\n",
    "        "
   ]
  },
  {
   "cell_type": "code",
   "execution_count": 7,
   "metadata": {},
   "outputs": [
    {
     "name": "stdout",
     "output_type": "stream",
     "text": [
      "{'B': 1354, 'W': 816}\n"
     ]
    }
   ],
   "source": [
    "processJailCSV()"
   ]
  },
  {
   "cell_type": "code",
   "execution_count": null,
   "metadata": {},
   "outputs": [],
   "source": []
  },
  {
   "cell_type": "code",
   "execution_count": null,
   "metadata": {},
   "outputs": [],
   "source": []
  },
  {
   "cell_type": "code",
   "execution_count": null,
   "metadata": {},
   "outputs": [],
   "source": []
  }
 ],
 "metadata": {
  "kernelspec": {
   "display_name": "Python 3",
   "language": "python",
   "name": "python3"
  },
  "language_info": {
   "codemirror_mode": {
    "name": "ipython",
    "version": 3
   },
   "file_extension": ".py",
   "mimetype": "text/x-python",
   "name": "python",
   "nbconvert_exporter": "python",
   "pygments_lexer": "ipython3",
   "version": "3.7.4"
  }
 },
 "nbformat": 4,
 "nbformat_minor": 2
}
