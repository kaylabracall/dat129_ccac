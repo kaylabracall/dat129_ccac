{
 "cells": [
  {
   "cell_type": "code",
   "execution_count": 60,
   "metadata": {},
   "outputs": [
    {
     "name": "stdout",
     "output_type": "stream",
     "text": [
      "<re.Match object; span=(0, 3), match='J C'>\n",
      "<re.Match object; span=(0, 3), match='T J'>\n",
      "<re.Match object; span=(0, 3), match='J J'>\n",
      "<re.Match object; span=(0, 3), match='M E'>\n",
      "<re.Match object; span=(0, 7), match='E BONEY'>\n",
      "<re.Match object; span=(0, 4), match='T J '>\n",
      "<re.Match object; span=(0, 7), match='K T LEE'>\n",
      "<re.Match object; span=(0, 8), match='J JOPLIN'>\n",
      "<re.Match object; span=(0, 5), match='V TEC'>\n",
      "<re.Match object; span=(0, 6), match='K PONE'>\n",
      "<re.Match object; span=(0, 5), match='J J  '>\n",
      "<re.Match object; span=(0, 5), match='J J  '>\n",
      "<re.Match object; span=(0, 6), match='T BONE'>\n"
     ]
    }
   ],
   "source": [
    "import csv\n",
    "import re\n",
    "import matplotlib as plt\n",
    "%matplotlib inline\n",
    "\n",
    "dogfile = open('dogtags.csv' , newline = '')\n",
    "# build a regex and compile it before looping \n",
    "exp = re.compile(r'[^A*] \\w.*', re.IGNORECASE)\n",
    "\n",
    "reader = csv.DictReader(dogfile)\n",
    "for row in reader:\n",
    "    m = exp.match(row['DogName'])\n",
    "    if m:\n",
    "        print(m)"
   ]
  },
  {
   "cell_type": "code",
   "execution_count": null,
   "metadata": {},
   "outputs": [],
   "source": []
  }
 ],
 "metadata": {
  "kernelspec": {
   "display_name": "Python 3",
   "language": "python",
   "name": "python3"
  },
  "language_info": {
   "codemirror_mode": {
    "name": "ipython",
    "version": 3
   },
   "file_extension": ".py",
   "mimetype": "text/x-python",
   "name": "python",
   "nbconvert_exporter": "python",
   "pygments_lexer": "ipython3",
   "version": "3.7.4"
  }
 },
 "nbformat": 4,
 "nbformat_minor": 2
}
