{
 "cells": [
  {
   "cell_type": "code",
   "execution_count": 1,
   "metadata": {},
   "outputs": [
    {
     "name": "stdout",
     "output_type": "stream",
     "text": [
      "{'Count': 3, 'Message': 'Results returned successfully', 'Results': [{'Manufacturer': 'AMERICAN SUZUKI MOTOR CORP.', 'NHTSACampaignNumber': '10V392000', 'ReportReceivedDate': '/Date(1283313600000-0400)/', 'Component': 'EQUIPMENT:ELECTRICAL:NAVIGATIONAL SYSTEM(GLOBAL POSITIONING SYSTEM)', 'Summary': 'SUZUKI IS RECALLING CERTAIN MODEL YEAR 2008 THROUGH 2010 SX4, 2010 GRAND VITARA, AND 2009 THROUGH 2010 EQUATOR VEHICLES THAT WERE EQUIPPED WITH A GARMIN NUVI MODEL 750, 760, AND 765 NAVIGATION SYSTEM. THE BATTERIES CONTAINED IN THE AFFECTED GPS UNITS CAN OVERHEAT.', 'Conequence': 'OVERHEATED BATTERIES COULD RESULT IN A FIRE.', 'Remedy': \"SUZUKI WILL NOTIFY OWNERS AND THE REPAIRS WILL BE PERFORMED BY GARMIN TECHNICIANS BY REPLACING THE BATTERY AND INSERTING A SPACER ON TOP OF THE BATTERY FREE OF CHARGE.   THE SAFETY RECALL BEGAN ON SEPTEMBER 24, 2010.  OWNERS MAY CONTACT GARMIN DIRECTLY AT 1-866-957-1981 OR SUZUKI AT 1-887-697-8985.  OWNERS MAY ALSO VISIT GARMIN'S WEBSITE AT WWW.GARMIN.COM/NUVIBATTERYPCBRECALL.\", 'Notes': \"SUZUKI'S RECALL CAMPAIGN NUMBER IS SJ.  OWNERS MAY ALSO CONTACT THE NATIONAL HIGHWAY TRAFFIC SAFETY ADMINISTRATION'S VEHICLE SAFETY HOTLINE AT 1-888-327-4236 (TTY 1-800-424-9153), OR GO TO <A HREF=HTTP://WWW.SAFERCAR.GOV>HTTP://WWW.SAFERCAR.GOV</A> . \", 'ModelYear': '2009', 'Make': 'SUZUKI', 'Model': 'SX4'}, {'Manufacturer': 'AMERICAN SUZUKI MOTOR CORP.', 'NHTSACampaignNumber': '10V513000', 'ReportReceivedDate': '/Date(1287460800000-0400)/', 'Component': 'VISIBILITY:REARVIEW MIRRORS/DEVICES:EXTERIOR', 'Summary': 'SUZUKI IS RECALLING CERTAIN MODEL YEAR 2007 SX4 HATCHBACK AND MODEL YEAR 2008-2010 SX4 HATCHBACK AND SEDAN PASSENGER VEHICLES.  THE THREE SCREWS THAT SECURE EACH OF THE OUTSIDE REAR VIEW MIRRORS TO THE MIRROR BASE CAN COME LOOSE DUE TO VIBRATION.', 'Conequence': 'IF A REAR VIEW MIRROR FALLS OFF THE VEHICLE THE DRIVER WILL HAVE REDUCED VISIBILITY INCREASING THE RISK OF A CRASH.', 'Remedy': \"DEALERS WILL REPLACE THE BASE SCREWS ON BOTH OUTER REAR VIEW MIRRORS FREE OF CHARGE.  THE SAFETY RECALL BEGAN ON NOVEMBER 5, 2010.  OWNERS MAY CONTACT SUZUKI AT 1-887-697-8985 OR VISIT SUZUKI'S WEBSITE AT HTTP://WWW.SUZUKIAUTO.COM.  \", 'Notes': \"SUZUKI SAFETY RECALL NO. SK.  OWNERS MAY ALSO CONTACT THE NATIONAL HIGHWAY TRAFFIC SAFETY ADMINISTRATION'S VEHICLE SAFETY HOTLINE AT 1-888-327-4236 (TTY 1-800-424-9153), OR GO TO <A HREF=HTTP://WWW.SAFERCAR.GOV>HTTP://WWW.SAFERCAR.GOV</A> .\", 'ModelYear': '2009', 'Make': 'SUZUKI', 'Model': 'SX4'}, {'Manufacturer': 'Suzuki Motor of America, Inc.', 'NHTSACampaignNumber': '13V405000', 'NHTSAActionNumber': 'PE13021', 'ReportReceivedDate': '/Date(1378440000000-0400)/', 'Component': 'AIR BAGS', 'Summary': 'Suzuki Motor of America, Inc. (Suzuki) is recalling certain model year 2006-2011 Grand Vitara and 2007-2011 SX4 vehicles.  In the affected vehicles, over time, the OCS sensor mat installed in the front passenger seat may fail due to repeated flexing of the mat from use of the seat.  As a result, during a crash necessitating deployment, the air bag will deploy regardless of whether the front seat occupant is an adult or a child.  ', 'Conequence': 'Air bag deployment with a child in the front passenger side seat increases the risk of injury to that child.  \\r\\n', 'Remedy': \"Suzuki will notify owners and dealers will replace the front passenger seat cushion assembly (which includes the OCS sensor mat) free of charge.  Sufficient quantities of parts are not currently available to fix all of the affected vehicles. Owners will be notified of the recall in October 2013 and will receive a second notification when parts are available to have their vehicle repaired. The recall began on May 23, 2014.  Owners may contact Suzuki at 1-800-934-0934.  Suzuki's recall campaign number is VD.  \", 'Notes': \"Note: Vehicles which previously had a countermeasure occupant classification system (OCS) sensor mat installed under the special coverage campaign conducted by Suzuki distributors in the United States are not affected by this recall.  Owners may also contact the National Highway Traffic Safety Administration's Vehicle Safety Hotline at 1-888-327-4236 (TTY: 1-800-424-9153), or go to www.safercar.gov.\", 'ModelYear': '2009', 'Make': 'SUZUKI', 'Model': 'SX4'}]}\n"
     ]
    }
   ],
   "source": [
    "import requests, json\n",
    "\n",
    "req = requests.get('https://webapi.nhtsa.gov//api/Recalls/vehicle/modelyear/2009/make/suzuki/model/sx4?format=json')\n",
    "if (int(req.status_code) == 200):\n",
    "   # print(req.headers.keys())\n",
    "    apiDict = json.loads(req.text)\n",
    "    print(apiDict)"
   ]
  },
  {
   "cell_type": "code",
   "execution_count": null,
   "metadata": {},
   "outputs": [],
   "source": []
  }
 ],
 "metadata": {
  "kernelspec": {
   "display_name": "Python 3",
   "language": "python",
   "name": "python3"
  },
  "language_info": {
   "codemirror_mode": {
    "name": "ipython",
    "version": 3
   },
   "file_extension": ".py",
   "mimetype": "text/x-python",
   "name": "python",
   "nbconvert_exporter": "python",
   "pygments_lexer": "ipython3",
   "version": "3.7.4"
  }
 },
 "nbformat": 4,
 "nbformat_minor": 2
}
