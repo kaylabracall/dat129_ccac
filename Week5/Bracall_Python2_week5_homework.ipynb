{
 "cells": [
  {
   "cell_type": "code",
   "execution_count": 30,
   "metadata": {},
   "outputs": [
    {
     "name": "stdout",
     "output_type": "stream",
     "text": [
      "What is the most common marine mammal spotted in the state of Washington?\n"
     ]
    }
   ],
   "source": [
    "print(\"What is the most common marine mammal spotted in the state of Washington?\")\n",
    "\n",
    "import json, requests\n",
    "\n",
    "\n",
    "def readKeyWordFile():\n",
    "    for keyWord in open('mammal_sightings.txt', newline='\\n'):\n",
    "        apiURL = 'http://hotline.whalemuseum.org/api.json?limit=1000&until=today'\n",
    "        result = animal_count(apiURL)\n",
    "        print(result)\n"
   ]
  },
  {
   "cell_type": "code",
   "execution_count": 33,
   "metadata": {},
   "outputs": [],
   "source": [
    "import json, requests\n",
    "\n",
    "def animal_count(url):\n",
    "    # initialize counters \n",
    "    orca_counter = 0\n",
    "    gray_whale_counter = 0\n",
    "    aws_dolphin_counter = 0\n",
    "    pws_dolphin_counter = 0\n",
    "    harbor_porpoise_counter = 0\n",
    "    harbor_seal_counter = 0\n",
    "    ne_seal_counter = 0\n",
    "    stellar_sealion_counter = 0\n",
    "    sea_otter_counter = 0\n",
    "    \n",
    "    # check success status\n",
    "    if(int(req.status_code) == 200):\n",
    "        apiDict = json.loads(req.text)\n",
    "        # iterate over species field\n",
    "        species_count = apiDict['species']\n",
    "        # for loop to count species types \n",
    "        for species in species_count:\n",
    "            if species == 'orca':\n",
    "                orca_counter +=1\n",
    "            elif species == 'atlantic white-sided dolphin':\n",
    "                aws_dolphin_counter +=1 \n",
    "            elif species == 'gray whale':\n",
    "                gray_whale_counter += 1\n",
    "            elif species == 'pacific white-sided dolphin':\n",
    "                pws_dolphin_counter +=1\n",
    "            elif species == 'harbor porpoise':\n",
    "                harbor_porpoise_counter +=1\n",
    "            elif species == 'harbor seal':\n",
    "                harbor_seal_counter +=1\n",
    "            elif species == 'northern elephant seal':\n",
    "                ne_seal_counter +=1\n",
    "            elif species == 'steller sea lion':\n",
    "                stellar_sealion_counter +=1\n",
    "            elif species == 'sea otter':\n",
    "                sea_otter_counter +=1   \n",
    "                \n",
    "            animal_list = [orca_counter, aws_dolphin_counter, gray_whale_counter, pws_dolphin_counter, harbor_porpoise_counter, \n",
    "                           harbor_seal_counter, ne_seal_counter, stellar_sealion_counter, sea_otter_counter]\n",
    "\n",
    "            most_common_mammal = max(animal_list)\n",
    "        \n",
    "    return most_common_mammal\n",
    "    \n",
    "    \n"
   ]
  },
  {
   "cell_type": "code",
   "execution_count": 35,
   "metadata": {},
   "outputs": [],
   "source": [
    "readKeyWordFile()"
   ]
  },
  {
   "cell_type": "code",
   "execution_count": null,
   "metadata": {},
   "outputs": [],
   "source": []
  }
 ],
 "metadata": {
  "kernelspec": {
   "display_name": "Python 3",
   "language": "python",
   "name": "python3"
  },
  "language_info": {
   "codemirror_mode": {
    "name": "ipython",
    "version": 3
   },
   "file_extension": ".py",
   "mimetype": "text/x-python",
   "name": "python",
   "nbconvert_exporter": "python",
   "pygments_lexer": "ipython3",
   "version": "3.7.4"
  }
 },
 "nbformat": 4,
 "nbformat_minor": 2
}
