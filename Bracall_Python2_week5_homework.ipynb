{
 "cells": [
  {
   "cell_type": "code",
   "execution_count": 126,
   "metadata": {},
   "outputs": [],
   "source": [
    "import json, requests\n",
    "\n",
    "def print_result():\n",
    "    apiURL = 'http://hotline.whalemuseum.org/api.json?species=orca&limit=1000&until=today'\n",
    "    result = animal_count(apiURL)\n",
    "    print(result)\n"
   ]
  },
  {
   "cell_type": "code",
   "execution_count": 127,
   "metadata": {},
   "outputs": [],
   "source": [
    "import json, requests\n",
    "\n",
    "def animal_count(url):\n",
    "    req = requests.get(url)\n",
    "\n",
    "#    species_name = ''\n",
    "    \n",
    "    mammal_dict = {'orca': 0, 'atlantic white-sided dolphin': 0, 'gray whale': 0, 'pacific white-sided dolphin': 0, \n",
    "    'harbor porpoise': 0, 'harbor seal': 0, 'northern elephant seal': 0, 'steller sea lion': 0, 'sea otter': 0}\n",
    "    \n",
    "    orca_dict = {'northern resident': 0, 'southern resident': 0, 'transient': 0, 'offshore': 0}\n",
    "    \n",
    "    # check success status\n",
    "    if(int(req.status_code) == 200):\n",
    "        apiDict = json.loads(req.text)\n",
    "#        print(apiDict)\n",
    "        # iterate over species field\n",
    "        for sighting in apiDict:\n",
    "            species_name = sighting['species']\n",
    "            if species_name == 'orca':\n",
    "                orca_subtype = sighting['orca_type']\n",
    "                if orca_subtype in orca_dict:\n",
    "                    orca_dict[orca_subtype] = orca_dict[orca_subtype] + 1\n",
    "#            print(sighting)\n",
    "\n",
    "#                 if species_name in mammal_dict:\n",
    "#     #                print(\"found species: \", species_name)\n",
    "#                     mammal_dict[species_name] = mammal_dict[species_name] + 1\n",
    "#     #                print(\"current count: \", mammal_dict[species_name])\n",
    "\n",
    "        \n",
    "    \n",
    "#        return mammal_dict\n",
    "        return orca_dict\n"
   ]
  },
  {
   "cell_type": "code",
   "execution_count": 128,
   "metadata": {
    "scrolled": true
   },
   "outputs": [],
   "source": [
    "def main():\n",
    "    print('What is the most common orca subtype spotted in the state of Washington?')\n",
    "#    print(\"What is the most common marine mammal spotted in the state of Washington?\") \n",
    "    print_result()"
   ]
  },
  {
   "cell_type": "code",
   "execution_count": 129,
   "metadata": {},
   "outputs": [
    {
     "name": "stdout",
     "output_type": "stream",
     "text": [
      "What is the most common orca subtype spotted in the state of Washington?\n",
      "{'northern resident': 0, 'southern resident': 905, 'transient': 0, 'offshore': 93}\n"
     ]
    }
   ],
   "source": [
    "main()"
   ]
  },
  {
   "cell_type": "code",
   "execution_count": null,
   "metadata": {},
   "outputs": [],
   "source": []
  },
  {
   "cell_type": "code",
   "execution_count": null,
   "metadata": {},
   "outputs": [],
   "source": []
  }
 ],
 "metadata": {
  "kernelspec": {
   "display_name": "Python 3",
   "language": "python",
   "name": "python3"
  },
  "language_info": {
   "codemirror_mode": {
    "name": "ipython",
    "version": 3
   },
   "file_extension": ".py",
   "mimetype": "text/x-python",
   "name": "python",
   "nbconvert_exporter": "python",
   "pygments_lexer": "ipython3",
   "version": "3.7.4"
  }
 },
 "nbformat": 4,
 "nbformat_minor": 2
}
