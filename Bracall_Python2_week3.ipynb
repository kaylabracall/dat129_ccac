{
 "cells": [
  {
   "cell_type": "code",
   "execution_count": 7,
   "metadata": {},
   "outputs": [
    {
     "data": {
      "text/plain": [
       "{'Planned': 579, 'Completed': 122, 'In_Progress': 93, 'Canceled': 16}"
      ]
     },
     "execution_count": 7,
     "metadata": {},
     "output_type": "execute_result"
    }
   ],
   "source": [
    "import csv\n",
    "def process_capital_projects():\n",
    "    ''' this function iterates over the capital_projects csv file to determine\n",
    "    percentage of completed projects'''\n",
    "    \n",
    "    file = open('capital_projects.csv', newline= '')\n",
    "    reader = csv.DictReader(file)\n",
    "    status_count = {'Planned':0, 'Completed':0, 'In_Progress':0, 'Canceled':0}\n",
    "    #comp_status = 'Completed'\n",
    "    #plan_status = 'Planned'\n",
    "    #in_prog_status = 'In_Progress'\n",
    "    #cancel_status = 'Canceled'\n",
    "    \n",
    "    for row in reader:\n",
    "        if row['status'] == 'Planned':\n",
    "            status_count['Planned'] = status_count['Planned'] +1\n",
    "        elif row['status'] == 'Completed':\n",
    "            status_count['Completed'] = status_count['Completed'] +1\n",
    "        elif row['status'] == 'In_Progress':\n",
    "            status_count['In_Progress'] = status_count['In_Progress'] +1\n",
    "        elif row['status'] == 'Canceled':\n",
    "            status_count['Canceled'] = status_count['Canceled'] +1\n",
    "        else:\n",
    "            print ('This should not print')\n",
    "    \n",
    "    file.close()\n",
    "    return status_count\n",
    "\n",
    "\n",
    "# process_capital_projects()\n",
    "\n",
    "\n"
   ]
  },
  {
   "cell_type": "code",
   "execution_count": null,
   "metadata": {},
   "outputs": [],
   "source": [
    "def compute_percent(status_count):\n",
    "    for k in status_count:\n",
    "        total = total + status_count[k]\n",
    "    for m in status_count:\n",
    "        \n"
   ]
  },
  {
   "cell_type": "code",
   "execution_count": null,
   "metadata": {},
   "outputs": [],
   "source": []
  }
 ],
 "metadata": {
  "kernelspec": {
   "display_name": "Python 3",
   "language": "python",
   "name": "python3"
  },
  "language_info": {
   "codemirror_mode": {
    "name": "ipython",
    "version": 3
   },
   "file_extension": ".py",
   "mimetype": "text/x-python",
   "name": "python",
   "nbconvert_exporter": "python",
   "pygments_lexer": "ipython3",
   "version": "3.7.4"
  }
 },
 "nbformat": 4,
 "nbformat_minor": 2
}
