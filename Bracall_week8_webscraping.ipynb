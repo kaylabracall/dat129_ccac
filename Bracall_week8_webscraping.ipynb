{
 "cells": [
  {
   "cell_type": "code",
   "execution_count": 28,
   "metadata": {},
   "outputs": [],
   "source": [
    "import urllib\n",
    "from bs4 import BeautifulSoup\n",
    "# getting html from search results at ravelery.com for both knitting and crochet patterns\n",
    "\n",
    "def getSearchURL(term):\n",
    "    url = 'https://www.ravelry.com/patterns/search#query=%s' % (str(term))\n",
    "    return url\n",
    "\n",
    "def getPageText(url):\n",
    "    req = urllib.request.Request(url)\n",
    "    with urllib.request.urlopen(req) as response:\n",
    "        return response.read()"
   ]
  },
  {
   "cell_type": "code",
   "execution_count": 29,
   "metadata": {},
   "outputs": [],
   "source": [
    "# should be scraping from https://www.ravelry.com/patterns/search#query=knitting&sort=best&view=captioned_thumbs&page=1 \n",
    "\n",
    "pageText = getPageText(getSearchURL('knitting'))\n",
    "soup = BeautifulSoup(pageText, 'html.parser')\n",
    "s = soup.find_all('a','pattern_name')\n",
    "knit_count = 0\n",
    "\n",
    "for item in s:\n",
    "    pattern = item.find('span').string\n",
    "#    print(pattern) # something is going wrong with search query, not printing any pattern names when this comment is untagged\n",
    "    if \"knit\" in pattern:\n",
    "        knit_count = knit_count +1\n",
    "    print(knit_count)\n"
   ]
  },
  {
   "cell_type": "code",
   "execution_count": 30,
   "metadata": {},
   "outputs": [],
   "source": [
    "# should be scraping from https://www.ravelry.com/patterns/search#query=crochet&sort=best&view=captioned_thumbs&page=1 \n",
    "\n",
    "pageText = getPageText(getSearchURL('crochet'))\n",
    "soup = BeautifulSoup(pageText, 'html.parser')\n",
    "s = soup.find_all('a','pattern_name')\n",
    "crochet_count = 0\n",
    "\n",
    "for item in s:\n",
    "    pattern = item.find('span').string\n",
    "#    print(pattern)\n",
    "    if \"crochet\" in pattern:\n",
    "        crochet_count = crochet_count + 1\n",
    "    print(crochet_count)\n"
   ]
  },
  {
   "cell_type": "code",
   "execution_count": 31,
   "metadata": {},
   "outputs": [
    {
     "name": "stdout",
     "output_type": "stream",
     "text": [
      "How many knitting patterns reference the craft in the pattern name?\n",
      "How many crochet patterns reference the craft in the name?\n",
      "# of Knitting Patterns:  0\n",
      "# of Crochet Patterns:  0\n"
     ]
    }
   ],
   "source": [
    "print(\"How many knitting patterns reference the craft in the pattern name?\")\n",
    "print(\"How many crochet patterns reference the craft in the name?\")\n",
    "print(\"# of Knitting Patterns: \", str(knit_count))\n",
    "print(\"# of Crochet Patterns: \", str(crochet_count))"
   ]
  },
  {
   "cell_type": "code",
   "execution_count": null,
   "metadata": {},
   "outputs": [],
   "source": []
  }
 ],
 "metadata": {
  "kernelspec": {
   "display_name": "Python 3",
   "language": "python",
   "name": "python3"
  },
  "language_info": {
   "codemirror_mode": {
    "name": "ipython",
    "version": 3
   },
   "file_extension": ".py",
   "mimetype": "text/x-python",
   "name": "python",
   "nbconvert_exporter": "python",
   "pygments_lexer": "ipython3",
   "version": "3.7.4"
  }
 },
 "nbformat": 4,
 "nbformat_minor": 2
}
