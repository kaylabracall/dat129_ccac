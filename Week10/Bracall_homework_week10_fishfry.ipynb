{
 "cells": [
  {
   "cell_type": "code",
   "execution_count": 1,
   "metadata": {},
   "outputs": [],
   "source": [
    "import pandas as pd\n",
    "import numpy as np"
   ]
  },
  {
   "cell_type": "code",
   "execution_count": 7,
   "metadata": {},
   "outputs": [
    {
     "name": "stdout",
     "output_type": "stream",
     "text": [
      "What is the most common venue in Western PA for fish fries?\n",
      "\n",
      "Church                    161\n",
      "Fire Department            86\n",
      "Restaurant                 54\n",
      "Community Organization     28\n",
      "Unsure / N/A               12\n",
      "Resturant                   7\n",
      "Other                       4\n",
      "Market                      3\n",
      "Veterans                    2\n",
      "Name: venue_type, dtype: int64\n"
     ]
    }
   ],
   "source": [
    "fishfrydf = pd.read_csv('fishfry.csv')\n",
    "# extract an individual column from the \"table\" ie the DataFrame\n",
    "venue_type = fishfrydf['venue_type']\n",
    "\n",
    "print('What is the most common venue in Western PA for fish fries?')\n",
    "print('')\n",
    "print(venue_type.value_counts())"
   ]
  },
  {
   "cell_type": "code",
   "execution_count": 15,
   "metadata": {},
   "outputs": [
    {
     "name": "stdout",
     "output_type": "stream",
     "text": [
      "How many churches serve homemade pierogies?\n",
      "\n"
     ]
    },
    {
     "data": {
      "text/plain": [
       "False                                 23\n",
       "True                                  20\n",
       " macaroni and cheese                   2\n",
       " pasta fagioli. Dessert available.     1\n",
       " pasta fagioli                         1\n",
       " fresh-cut french fries                1\n",
       " green beans                           1\n",
       " seafood dinner                        1\n",
       " fried shrimp                          1\n",
       "Name: homemade_pierogies, dtype: int64"
      ]
     },
     "execution_count": 15,
     "metadata": {},
     "output_type": "execute_result"
    }
   ],
   "source": [
    "pierogie_count = fishfrydf.loc[lambda fishfrydf: fishfrydf['venue_type'].isin(['Church'])]\n",
    "print('How many churches serve homemade pierogies?')\n",
    "print('')\n",
    "pierogie_count['homemade_pierogies'].value_counts()"
   ]
  },
  {
   "cell_type": "code",
   "execution_count": null,
   "metadata": {},
   "outputs": [],
   "source": []
  }
 ],
 "metadata": {
  "kernelspec": {
   "display_name": "Python 3",
   "language": "python",
   "name": "python3"
  },
  "language_info": {
   "codemirror_mode": {
    "name": "ipython",
    "version": 3
   },
   "file_extension": ".py",
   "mimetype": "text/x-python",
   "name": "python",
   "nbconvert_exporter": "python",
   "pygments_lexer": "ipython3",
   "version": "3.7.4"
  }
 },
 "nbformat": 4,
 "nbformat_minor": 2
}
