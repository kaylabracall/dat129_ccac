{
 "cells": [
  {
   "cell_type": "code",
   "execution_count": 1,
   "metadata": {},
   "outputs": [],
   "source": [
    "import numpy as np\n",
    "import pandas as pd"
   ]
  },
  {
   "cell_type": "code",
   "execution_count": 25,
   "metadata": {},
   "outputs": [],
   "source": [
    "violationsdf = pd.read_csv('violations.csv')\n",
    "#print(type(violationsdf))\n",
    "#print(violationsdf.head())\n",
    "#print(violationsdf.dtypes)\n",
    "# extract an individual column from the \"table\" ie the DataFrame\n",
    "codeviolations = violationsdf['description_new']\n",
    "# ask the column how many rows\n",
    "# print(codeviolations.size)\n",
    "# on our Series Object, ask for a tabulation of each unqiue value and its respective counts \n",
    "#print(codeviolations.value_counts())\n",
    "\n",
    "munis = violationsdf['municipal']\n",
    "#print(munis.value_counts())"
   ]
  },
  {
   "cell_type": "code",
   "execution_count": 26,
   "metadata": {},
   "outputs": [],
   "source": [
    "moonviols = violationsdf.loc[lambda violationsdf: violationsdf['municipal'].isin(['Moon'])]\n",
    "# type(robviols)\n",
    "# extracted the column of violations as a series and asked for the tally of unique value counts \n",
    "moon_var = moonviols['description_new'].value_counts()"
   ]
  },
  {
   "cell_type": "code",
   "execution_count": 27,
   "metadata": {},
   "outputs": [],
   "source": [
    "# repeat above cell for McDonald \n",
    "mcviolations = violationsdf.loc[lambda violationsdf: violationsdf['municipal'].isin(['McDonald'])]\n",
    "mcd_var = mcviolations['description_new'].value_counts()"
   ]
  },
  {
   "cell_type": "code",
   "execution_count": 28,
   "metadata": {},
   "outputs": [],
   "source": [
    "# repeat cell for Bridgeville\n",
    "bridgeviols = violationsdf.loc[lambda violationsdf: violationsdf['municipal'].isin(['Bridgeville'])]\n",
    "bridge_var = bridgeviols['description_new'].value_counts()"
   ]
  },
  {
   "cell_type": "code",
   "execution_count": 29,
   "metadata": {},
   "outputs": [
    {
     "name": "stdout",
     "output_type": "stream",
     "text": [
      "What are the most common violations in Moon?\n",
      "\n",
      "Cleaning and Sanitization                            400\n",
      "Fabrication, Design, Installation and Maintenance    300\n",
      "Cold Holding Temperatures                            222\n",
      "Certified Food Protection Manager                    170\n",
      "Walls and ceilings                                   169\n",
      "Name: description_new, dtype: int64\n",
      "\n",
      "... in McDonald?\n",
      "Cold Holding Temperatures                            5\n",
      "Date Marking of Food                                 4\n",
      "Fabrication, Design, Installation and Maintenance    4\n",
      "Garbage and Refuse                                   4\n",
      "Facilities to Maintain Temperature                   4\n",
      "Name: description_new, dtype: int64\n",
      "\n",
      "... in Bridgeville?\n",
      "Fabrication, Design, Installation and Maintenance          102\n",
      "Cleaning and Sanitization                                   97\n",
      "Contamination Prevention - Food, Utensils and Equipment     73\n",
      "Walls and ceilings                                          68\n",
      "Handwashing Facilities                                      58\n",
      "Name: description_new, dtype: int64\n"
     ]
    }
   ],
   "source": [
    "print('What are the most common violations in Moon?')\n",
    "print('')\n",
    "print(moon_var.head())\n",
    "\n",
    "print('')\n",
    "print(\"... in McDonald?\")\n",
    "print(mcd_var.head())\n",
    "\n",
    "print('')\n",
    "print(\"... in Bridgeville?\")\n",
    "print(bridge_var.head())"
   ]
  },
  {
   "cell_type": "code",
   "execution_count": null,
   "metadata": {},
   "outputs": [],
   "source": []
  }
 ],
 "metadata": {
  "kernelspec": {
   "display_name": "Python 3",
   "language": "python",
   "name": "python3"
  },
  "language_info": {
   "codemirror_mode": {
    "name": "ipython",
    "version": 3
   },
   "file_extension": ".py",
   "mimetype": "text/x-python",
   "name": "python",
   "nbconvert_exporter": "python",
   "pygments_lexer": "ipython3",
   "version": "3.7.4"
  }
 },
 "nbformat": 4,
 "nbformat_minor": 2
}
