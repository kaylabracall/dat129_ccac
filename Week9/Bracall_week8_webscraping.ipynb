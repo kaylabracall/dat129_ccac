{
 "cells": [
  {
   "cell_type": "code",
   "execution_count": 37,
   "metadata": {},
   "outputs": [],
   "source": [
    "import urllib\n",
    "from bs4 import BeautifulSoup\n",
    "# getting html from search results at ravelery.com for both knitting and crochet patterns\n",
    "\n",
    "def getSearchURL_silk(term):\n",
    "    url = 'https://www.yarn.com/categories/silk-yarn' \n",
    "    return url\n",
    "\n",
    "def getSearchURL_wool(term):\n",
    "    url = 'https://www.yarn.com/categories/wool-yarn'\n",
    "    return url \n",
    "\n",
    "def getPageText(url):\n",
    "    req = urllib.request.Request(url)\n",
    "    with urllib.request.urlopen(req) as response:\n",
    "        return response.read()"
   ]
  },
  {
   "cell_type": "code",
   "execution_count": 38,
   "metadata": {},
   "outputs": [],
   "source": [
    "pageText = getPageText(getSearchURL_silk('silk'))\n",
    "soup = BeautifulSoup(pageText, 'html.parser')\n",
    "#print(soup)\n",
    "s = soup.find_all('div','product-prices__price')\n",
    "silk_count = 0\n",
    "total_price = 0\n",
    "\n",
    "for item in s:\n",
    "    price = item.find('span', None)\n",
    "    if price:\n",
    "        silk_count = silk_count +1 # increase counter\n",
    "        price_variable = price.text\n",
    "        price_num = float(price_variable.replace('$','')) # cast to float and replace the $ with an empty string\n",
    "        total_price = total_price + price_num\n",
    "    else:\n",
    "        continue\n",
    "        \n",
    "# silk_average_price = float(total_price)/silk_count\n",
    "# pretty_silk = round(silk_average_price, 2)"
   ]
  },
  {
   "cell_type": "code",
   "execution_count": 39,
   "metadata": {},
   "outputs": [
    {
     "name": "stdout",
     "output_type": "stream",
     "text": [
      "124.57\n",
      "12\n"
     ]
    }
   ],
   "source": [
    "# should be scraping from https://www.ravelry.com/patterns/search#query=crochet&sort=best&view=captioned_thumbs&page=1 \n",
    "\n",
    "pageText = getPageText(getSearchURL_wool('wool'))\n",
    "soup = BeautifulSoup(pageText, 'html.parser')\n",
    "s = soup.find_all('div','product-prices__price')\n",
    "wool_count = 0\n",
    "tot_price = 0\n",
    "\n",
    "\n",
    "for item in s:\n",
    "    price = item.find('span', None)\n",
    "    if price:\n",
    "        wool_count = wool_count +1 # increase counter\n",
    "        price_variable = price.text\n",
    "        price_num = float(price_variable.replace('$','')) # cast to float and replace the $ with an empty string\n",
    "        tot_price = tot_price + price_num\n",
    "    else:\n",
    "        continue\n",
    "        \n",
    "print(str(tot_price))\n",
    "print(wool_count)\n",
    "\n",
    "# wool_average_price = float(tot_price)/wool_count\n",
    "# pretty_wool = round(wool_average_price, 2)\n"
   ]
  },
  {
   "cell_type": "code",
   "execution_count": 40,
   "metadata": {},
   "outputs": [],
   "source": [
    "pageText = getPageText(getSearchURL_wool('yds'))\n",
    "soup = BeautifulSoup(pageText, 'html.parser')\n",
    "s = soup.find_all('div','product-summary__attributes')\n",
    "lace_count = 0\n",
    "fingering_count = 0 \n",
    "sock_count = 0\n",
    "sport_count = 0\n",
    "dk_count = 0\n",
    "worsted_count = 0\n",
    "bulky_count = 0 \n",
    "superbulky_count = 0\n",
    "\n",
    "\n",
    "for item in s:\n",
    "    yardage = item.find('div', None)\n",
    "    if yardage:\n",
    "        yardage_var = yardage.text\n",
    "        if yardage_var == \"Lace\":\n",
    "            lace_count = lace_count + 1 \n",
    "        elif yardage_var == \"Fingering\":\n",
    "            fingering_count = fingering_count + 1\n",
    "        elif yardage_var == \"Sock\":\n",
    "            sock_count = sock_count + 1\n",
    "        elif yardage_var == \"Sport\":\n",
    "            sport_count = sport_count + 1 \n",
    "        elif yardage_var == \"DK\":\n",
    "            dk_count = dk_count + 1 \n",
    "        elif yardage_var == \"Worsted\":\n",
    "            worsted_count = worsted_count + 1\n",
    "        elif yardage_var == \"Bulky\":\n",
    "            bulky_count = bulky_count + 1\n",
    "        elif yardage_var == \"Super Bulky\":\n",
    "            superbulky_count = superbulky_count + 1\n",
    "    else:\n",
    "        continue\n",
    "weight_dict = {'Lace': lace_count,'Fingering': fingering_count, 'Sock': sock_count, 'sport': sport_count, 'DK': dk_count, \n",
    "              'Worsted': worsted_count, 'Bulky': bulky_count, 'Super Bulky': superbulky_count}\n",
    "# print(weight_dict)"
   ]
  },
  {
   "cell_type": "code",
   "execution_count": 41,
   "metadata": {},
   "outputs": [],
   "source": [
    "# this section of code taken from Python 1 final \n",
    "\n",
    "def sort_key_list(word_dictionary):\n",
    "    '''This function takes a dictionary and moves the values to a list. From \n",
    "    there, it sorts the value list and compares it to the keys in the dictionary. \n",
    "    If the item in the list equals the key, it adds it to a new list. The \n",
    "    function returns the sorted list'''\n",
    "    # intialize lists\n",
    "    sorted_key_list = []\n",
    "    value_list = []\n",
    "    for value in word_dictionary:\n",
    "        temp = word_dictionary[value] # pull out value\n",
    "        value_list.append(temp) # add value to empty list\n",
    "    # sort list\n",
    "    value_list.sort()\n",
    "    # sort list in descending order\n",
    "    value_list_sort = value_list[::-1]\n",
    "\n",
    "    for item in value_list_sort:\n",
    "        for key in word_dictionary:\n",
    "            # if key equals item in list and item is not already in sorted_key_list, add it to list\n",
    "            if word_dictionary[key] == item and key not in sorted_key_list:\n",
    "                sorted_key_list.append(key)\n",
    "    return sorted_key_list"
   ]
  },
  {
   "cell_type": "code",
   "execution_count": 42,
   "metadata": {},
   "outputs": [],
   "source": [
    "sorted_weight_dict = sort_key_list(weight_dict)"
   ]
  },
  {
   "cell_type": "code",
   "execution_count": 46,
   "metadata": {},
   "outputs": [
    {
     "name": "stdout",
     "output_type": "stream",
     "text": [
      "On average, which yarn is more expensive? Silk or wool?\n",
      "\n",
      "Average price of silk: $ 8.6\n",
      "Average price of wool: $ 10.38\n",
      "\n",
      "On average, wool is more expensive.\n",
      "\n",
      "Which weight of yarn is most common?\n",
      "Worsted\n"
     ]
    }
   ],
   "source": [
    "print(\"On average, which yarn is more expensive? Silk or wool?\")\n",
    "print('')\n",
    "print(\"Average price of silk: $\", pretty_silk)\n",
    "print(\"Average price of wool: $\", pretty_wool)\n",
    "print('')\n",
    "if pretty_silk > pretty_wool:\n",
    "    print('On avereage, silk is more expensive.')\n",
    "elif pretty_wool > pretty_silk:\n",
    "    print('On average, wool is more expensive.')\n",
    "elif pretty_silk == pretty_wool:\n",
    "    print(\"Silk and wool have the same average price.\")\n",
    "else:\n",
    "    print(\"this should not print\")\n",
    "    \n",
    "print('')\n",
    "print(\"Which weight of yarn is most common?\")\n",
    "print(sorted_weight_dict[0])\n",
    "#for item in sorted_weight_dict:\n",
    " #   print(item, ':',weight_dict[item], sep='')"
   ]
  },
  {
   "cell_type": "code",
   "execution_count": null,
   "metadata": {},
   "outputs": [],
   "source": []
  }
 ],
 "metadata": {
  "kernelspec": {
   "display_name": "Python 3",
   "language": "python",
   "name": "python3"
  },
  "language_info": {
   "codemirror_mode": {
    "name": "ipython",
    "version": 3
   },
   "file_extension": ".py",
   "mimetype": "text/x-python",
   "name": "python",
   "nbconvert_exporter": "python",
   "pygments_lexer": "ipython3",
   "version": "3.7.4"
  }
 },
 "nbformat": 4,
 "nbformat_minor": 2
}
