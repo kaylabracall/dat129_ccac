{
 "cells": [
  {
   "cell_type": "code",
   "execution_count": 5,
   "metadata": {},
   "outputs": [],
   "source": [
    "# coding utf-8\n",
    "\n",
    "# # coding: utf-8\n",
    "\n",
    "# In[1]:\n",
    "\n",
    "\n",
    "# iterates over a text file with one keyword per line\n",
    "# for each keyword, call the API server and capture the JSON response\n",
    "def readKeyWordFile():\n",
    "    for keyWord in open('keywords.txt', newline='\\n'):\n",
    "        apiURL = 'https://api.donorschoose.org/common/json_feed.html?keywords=\"%s\"&APIKey=DONORSCHOOSE&showSynopsis=true&max=50' % (keyWord.rstrip())\n",
    "        # Pass entire json blob from server to method to give us back an average value\n",
    "        result = getAverageRequestByKeyWord(apiURL)\n",
    "        print(keyWord.strip() + \": $\" + str(result))"
   ]
  },
  {
   "cell_type": "code",
   "execution_count": 6,
   "metadata": {},
   "outputs": [],
   "source": [
    "import requests, json\n",
    "def getAverageRequestByKeyWord(url):\n",
    "    req = requests.get(url)\n",
    "    runningTotal = 0\n",
    "    numProps = 0\n",
    "    avg = 0\n",
    "    # check status code for 200 (all ok)\n",
    "    if(int(req.status_code)==200):\n",
    "        # get the text of the request with req.text\n",
    "        # send this into json.loads to create a native object setup\n",
    "        apiDict = json.loads(req.text)\n",
    "#         Uncomment this to see the actual dictionary we made from the JSON\n",
    "#         print(apiDict)\n",
    "        # navigate the dictionary with standard dict synytax\n",
    "        proposalList = apiDict['proposals']\n",
    "        # process the data in the dictionary using a for loop\n",
    "        for p in proposalList:\n",
    "            runningTotal = runningTotal + float(p['totalPrice'])\n",
    "        avg = runningTotal / len(proposalList)\n",
    "        return avg"
   ]
  },
  {
   "cell_type": "code",
   "execution_count": 7,
   "metadata": {},
   "outputs": [
    {
     "ename": "FileNotFoundError",
     "evalue": "[Errno 2] No such file or directory: 'keywords.txt'",
     "output_type": "error",
     "traceback": [
      "\u001b[1;31m---------------------------------------------------------------------------\u001b[0m",
      "\u001b[1;31mFileNotFoundError\u001b[0m                         Traceback (most recent call last)",
      "\u001b[1;32m<ipython-input-7-c4e270af246a>\u001b[0m in \u001b[0;36m<module>\u001b[1;34m\u001b[0m\n\u001b[1;32m----> 1\u001b[1;33m \u001b[0mreadKeyWordFile\u001b[0m\u001b[1;33m(\u001b[0m\u001b[1;33m)\u001b[0m\u001b[1;33m\u001b[0m\u001b[1;33m\u001b[0m\u001b[0m\n\u001b[0m",
      "\u001b[1;32m<ipython-input-5-e775815dd3f9>\u001b[0m in \u001b[0;36mreadKeyWordFile\u001b[1;34m()\u001b[0m\n\u001b[0;32m      9\u001b[0m \u001b[1;31m# for each keyword, call the API server and capture the JSON response\u001b[0m\u001b[1;33m\u001b[0m\u001b[1;33m\u001b[0m\u001b[1;33m\u001b[0m\u001b[0m\n\u001b[0;32m     10\u001b[0m \u001b[1;32mdef\u001b[0m \u001b[0mreadKeyWordFile\u001b[0m\u001b[1;33m(\u001b[0m\u001b[1;33m)\u001b[0m\u001b[1;33m:\u001b[0m\u001b[1;33m\u001b[0m\u001b[1;33m\u001b[0m\u001b[0m\n\u001b[1;32m---> 11\u001b[1;33m     \u001b[1;32mfor\u001b[0m \u001b[0mkeyWord\u001b[0m \u001b[1;32min\u001b[0m \u001b[0mopen\u001b[0m\u001b[1;33m(\u001b[0m\u001b[1;34m'keywords.txt'\u001b[0m\u001b[1;33m,\u001b[0m \u001b[0mnewline\u001b[0m\u001b[1;33m=\u001b[0m\u001b[1;34m'\\n'\u001b[0m\u001b[1;33m)\u001b[0m\u001b[1;33m:\u001b[0m\u001b[1;33m\u001b[0m\u001b[1;33m\u001b[0m\u001b[0m\n\u001b[0m\u001b[0;32m     12\u001b[0m         \u001b[0mapiURL\u001b[0m \u001b[1;33m=\u001b[0m \u001b[1;34m'https://api.donorschoose.org/common/json_feed.html?keywords=\"%s\"&APIKey=DONORSCHOOSE&showSynopsis=true&max=50'\u001b[0m \u001b[1;33m%\u001b[0m \u001b[1;33m(\u001b[0m\u001b[0mkeyWord\u001b[0m\u001b[1;33m.\u001b[0m\u001b[0mrstrip\u001b[0m\u001b[1;33m(\u001b[0m\u001b[1;33m)\u001b[0m\u001b[1;33m)\u001b[0m\u001b[1;33m\u001b[0m\u001b[1;33m\u001b[0m\u001b[0m\n\u001b[0;32m     13\u001b[0m         \u001b[1;31m# Pass entire json blob from server to method to give us back an average value\u001b[0m\u001b[1;33m\u001b[0m\u001b[1;33m\u001b[0m\u001b[1;33m\u001b[0m\u001b[0m\n",
      "\u001b[1;31mFileNotFoundError\u001b[0m: [Errno 2] No such file or directory: 'keywords.txt'"
     ]
    }
   ],
   "source": [
    "\n",
    "readKeyWordFile()"
   ]
  },
  {
   "cell_type": "code",
   "execution_count": null,
   "metadata": {},
   "outputs": [],
   "source": []
  }
 ],
 "metadata": {
  "kernelspec": {
   "display_name": "Python 3",
   "language": "python",
   "name": "python3"
  },
  "language_info": {
   "codemirror_mode": {
    "name": "ipython",
    "version": 3
   },
   "file_extension": ".py",
   "mimetype": "text/x-python",
   "name": "python",
   "nbconvert_exporter": "python",
   "pygments_lexer": "ipython3",
   "version": "3.7.4"
  }
 },
 "nbformat": 4,
 "nbformat_minor": 2
}
