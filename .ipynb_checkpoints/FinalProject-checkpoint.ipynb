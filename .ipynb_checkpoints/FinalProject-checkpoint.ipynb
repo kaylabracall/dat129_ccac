{
 "cells": [
  {
   "cell_type": "code",
   "execution_count": 122,
   "metadata": {},
   "outputs": [],
   "source": [
    "import csv\n",
    "import urllib\n",
    "from bs4 import BeautifulSoup\n",
    "# getting html from search results at ravelery.com for both knitting and crochet patterns\n",
    "\n",
    "def get_search_url(term):\n",
    "    '''assembles a query against goodreads.com given a search term'''\n",
    "    #https://www.goodreads.com/search?query=%s\n",
    "    url = \"https://www.yarn.com/search?&q=%s\" % (str(term))\n",
    "    return url\n",
    "\n",
    "def getPageText(url):\n",
    "    req = urllib.request.Request(url)\n",
    "    with urllib.request.urlopen(req) as response:\n",
    "        return response.read()\n",
    "    \n",
    "#print('Yarn types: silk, wool, polyester')\n",
    "# term = str(input('Please enter a yarn type: '))\n",
    "\n"
   ]
  },
  {
   "cell_type": "code",
   "execution_count": 108,
   "metadata": {},
   "outputs": [],
   "source": [
    "term = 'silk'\n",
    "pageText = getPageText(get_search_url(term))\n",
    "soup = BeautifulSoup(pageText, 'html.parser')\n",
    "# find the class that shows product prices \n",
    "s = soup.find_all('div','product-prices__price')\n",
    "\n",
    "if term == 'silk':\n",
    "    silk_count = 0\n",
    "    total_price = 0\n",
    "\n",
    "for item in s:\n",
    "    price = item.find('span', None)\n",
    "    if price:\n",
    "        silk_count = silk_count +1 # increase counter\n",
    "        price_variable = price.text\n",
    "        price_num = float(price_variable.replace('$','')) # cast to float and replace the $ with an empty string\n",
    "        total_price = total_price + price_num\n",
    "    else:\n",
    "        continue\n",
    "        \n",
    "silk_average_price = float(total_price)/silk_count\n",
    "pretty_silk = round(silk_average_price, 2)"
   ]
  },
  {
   "cell_type": "code",
   "execution_count": 109,
   "metadata": {},
   "outputs": [],
   "source": [
    "pageText = getPageText(get_search_url('polyester'))\n",
    "soup = BeautifulSoup(pageText, 'html.parser')\n",
    "#print(soup)\n",
    "s = soup.find_all('div','product-prices__price')\n",
    "poly_count = 0\n",
    "total_price = 0\n",
    "\n",
    "for item in s:\n",
    "    price = item.find('span', None)\n",
    "    if price:\n",
    "        poly_count = poly_count +1 # increase counter\n",
    "        price_variable = price.text\n",
    "        price_num = float(price_variable.replace('$','')) # cast to float and replace the $ with an empty string\n",
    "        total_price = total_price + price_num\n",
    "    else:\n",
    "        continue\n",
    "\n",
    "poly_average_price = float(total_price)/poly_count        \n",
    "pretty_poly = round(poly_average_price, 2)\n",
    "#print(pretty_poly)"
   ]
  },
  {
   "cell_type": "code",
   "execution_count": 110,
   "metadata": {},
   "outputs": [],
   "source": [
    "pageText = getPageText(get_search_url('wool'))\n",
    "soup = BeautifulSoup(pageText, 'html.parser')\n",
    "s = soup.find_all('div','product-prices__price')\n",
    "wool_count = 0\n",
    "tot_price = 0\n",
    "\n",
    "\n",
    "for item in s:\n",
    "    price = item.find('span', None)\n",
    "    if price:\n",
    "        wool_count = wool_count +1 # increase counter\n",
    "        price_variable = price.text\n",
    "        price_num = float(price_variable.replace('$','')) # cast to float and replace the $ with an empty string\n",
    "        tot_price = tot_price + price_num\n",
    "    else:\n",
    "        continue\n",
    "        \n",
    "#print(str(tot_price))\n",
    "#print(wool_count)\n",
    "\n",
    "wool_average_price = float(tot_price)/wool_count\n",
    "pretty_wool = round(wool_average_price, 2)\n",
    "# print(pretty_wool)"
   ]
  },
  {
   "cell_type": "code",
   "execution_count": 111,
   "metadata": {},
   "outputs": [
    {
     "name": "stdout",
     "output_type": "stream",
     "text": [
      "10.89\n"
     ]
    }
   ],
   "source": [
    "pageText = getPageText(get_search_url('bamboo'))\n",
    "soup = BeautifulSoup(pageText, 'html.parser')\n",
    "#print(soup)\n",
    "s = soup.find_all('div','product-prices__price')\n",
    "bamboo_count = 0\n",
    "total_price = 0\n",
    "\n",
    "for item in s:\n",
    "    price = item.find('span', None)\n",
    "    if price:\n",
    "        bamboo_count = bamboo_count +1 # increase counter\n",
    "        price_variable = price.text\n",
    "        price_num = float(price_variable.replace('$','')) # cast to float and replace the $ with an empty string\n",
    "        total_price = total_price + price_num\n",
    "    else:\n",
    "        continue\n",
    "\n",
    "bamboo_average_price = float(total_price)/bamboo_count        \n",
    "pretty_bamboo = round(bamboo_average_price, 2)\n",
    "print(pretty_bamboo)"
   ]
  },
  {
   "cell_type": "code",
   "execution_count": 112,
   "metadata": {},
   "outputs": [],
   "source": [
    "pageText = getPageText(get_search_url('cashmere'))\n",
    "soup = BeautifulSoup(pageText, 'html.parser')\n",
    "#print(soup)\n",
    "s = soup.find_all('div','product-prices__price')\n",
    "cash_count = 0\n",
    "total_price = 0\n",
    "\n",
    "for item in s:\n",
    "    price = item.find('span', None)\n",
    "    if price:\n",
    "        cash_count = cash_count +1 # increase counter\n",
    "        price_variable = price.text\n",
    "        price_num = float(price_variable.replace('$','')) # cast to float and replace the $ with an empty string\n",
    "        total_price = total_price + price_num\n",
    "    else:\n",
    "        continue\n",
    "cash_average_price = float(total_price)/cash_count        \n",
    "pretty_cash = round(cash_average_price, 2)\n",
    "#print(pretty_cash)"
   ]
  },
  {
   "cell_type": "code",
   "execution_count": 113,
   "metadata": {},
   "outputs": [
    {
     "name": "stdout",
     "output_type": "stream",
     "text": [
      "12.08\n"
     ]
    }
   ],
   "source": [
    "pageText = getPageText(get_search_url('luxury'))\n",
    "soup = BeautifulSoup(pageText, 'html.parser')\n",
    "#print(soup)\n",
    "s = soup.find_all('div','product-prices__price')\n",
    "lux_count = 0\n",
    "total_price = 0\n",
    "\n",
    "for item in s:\n",
    "    price = item.find('span', None)\n",
    "    if price:\n",
    "        lux_count = lux_count +1 # increase counter\n",
    "        price_variable = price.text\n",
    "        price_num = float(price_variable.replace('$','')) # cast to float and replace the $ with an empty string\n",
    "        total_price = total_price + price_num\n",
    "    else:\n",
    "        continue\n",
    "lux_average_price = float(total_price)/lux_count        \n",
    "pretty_lux = round(lux_average_price, 2)\n",
    "print(pretty_lux)"
   ]
  },
  {
   "cell_type": "code",
   "execution_count": 114,
   "metadata": {},
   "outputs": [
    {
     "name": "stdout",
     "output_type": "stream",
     "text": [
      "9.58\n"
     ]
    }
   ],
   "source": [
    "pageText = getPageText(get_search_url('cotton'))\n",
    "soup = BeautifulSoup(pageText, 'html.parser')\n",
    "#print(soup)\n",
    "s = soup.find_all('div','product-prices__price')\n",
    "cotton_count = 0\n",
    "total_price = 0\n",
    "\n",
    "for item in s:\n",
    "    price = item.find('span', None)\n",
    "    if price:\n",
    "        cotton_count = cotton_count +1 # increase counter\n",
    "        price_variable = price.text\n",
    "        price_num = float(price_variable.replace('$','')) # cast to float and replace the $ with an empty string\n",
    "        total_price = total_price + price_num\n",
    "    else:\n",
    "        continue\n",
    "cotton_average_price = float(total_price)/cotton_count        \n",
    "pretty_cotton = round(cotton_average_price, 2)\n",
    "print(pretty_cotton)"
   ]
  },
  {
   "cell_type": "code",
   "execution_count": 115,
   "metadata": {},
   "outputs": [
    {
     "name": "stdout",
     "output_type": "stream",
     "text": [
      "{'silk': 8.71, 'wool': 9.09, 'bamboo': 10.89, 'polyester': 7.8, 'cashmere': 12.51, 'luxury': 12.08, 'cotton': 9.58}\n"
     ]
    }
   ],
   "source": [
    "yarn_dict = {'silk': pretty_silk, 'wool': pretty_wool, 'bamboo': pretty_bamboo, 'polyester': pretty_poly, 'cashmere': pretty_cash,\n",
    "            'luxury':pretty_lux, 'cotton': pretty_cotton}\n",
    "print(yarn_dict)"
   ]
  },
  {
   "cell_type": "code",
   "execution_count": 116,
   "metadata": {},
   "outputs": [],
   "source": [
    "pageText = getPageText(get_search_url('yds'))\n",
    "soup = BeautifulSoup(pageText, 'html.parser')\n",
    "s = soup.find_all('div','product-summary__attributes')\n",
    "lace_count = 0\n",
    "fingering_count = 0 \n",
    "sock_count = 0\n",
    "sport_count = 0\n",
    "dk_count = 0\n",
    "worsted_count = 0\n",
    "bulky_count = 0 \n",
    "superbulky_count = 0\n",
    "\n",
    "# add up counts\n",
    "for item in s:\n",
    "    weight = item.find('div', None)\n",
    "    if weight:\n",
    "        weight_var = weight.text\n",
    "        if weight_var == \"Lace\":\n",
    "            lace_count = lace_count + 1 \n",
    "        elif weight_var == \"Fingering\":\n",
    "            fingering_count = fingering_count + 1\n",
    "        elif weight_var == \"Sock\":\n",
    "            sock_count = sock_count + 1\n",
    "        elif weight_var == \"Sport\":\n",
    "            sport_count = sport_count + 1 \n",
    "        elif weight_var == \"DK\":\n",
    "            dk_count = dk_count + 1 \n",
    "        elif weight_var == \"Worsted\":\n",
    "            worsted_count = worsted_count + 1\n",
    "        elif weight_var == \"Bulky\":\n",
    "            bulky_count = bulky_count + 1\n",
    "        elif weight_var == \"Super Bulky\":\n",
    "            superbulky_count = superbulky_count + 1\n",
    "    else:\n",
    "        continue\n",
    "# put counts in dictionary         \n",
    "weight_dict = {'Lace': lace_count,'Fingering': fingering_count, 'Sock': sock_count, 'sport': sport_count, 'DK': dk_count, \n",
    "              'Worsted': worsted_count, 'Bulky': bulky_count, 'Super Bulky': superbulky_count}\n",
    "# print(weight_dict)"
   ]
  },
  {
   "cell_type": "code",
   "execution_count": 117,
   "metadata": {},
   "outputs": [],
   "source": [
    "# this section of code taken from Python 1 final \n",
    "\n",
    "def sort_key_list(word_dictionary):\n",
    "    '''This function takes a dictionary and moves the values to a list. From \n",
    "    there, it sorts the value list and compares it to the keys in the dictionary. \n",
    "    If the item in the list equals the key, it adds it to a new list. The \n",
    "    function returns the sorted list'''\n",
    "    # intialize lists\n",
    "    sorted_key_list = []\n",
    "    value_list = []\n",
    "    for value in word_dictionary:\n",
    "        temp = word_dictionary[value] # pull out value\n",
    "        value_list.append(temp) # add value to empty list\n",
    "    # sort list\n",
    "    value_list.sort()\n",
    "    # sort list in descending order\n",
    "    value_list_sort = value_list[::-1]\n",
    "\n",
    "    for item in value_list_sort:\n",
    "        for key in word_dictionary:\n",
    "            # if key equals item in list and item is not already in sorted_key_list, add it to list\n",
    "            if word_dictionary[key] == item and key not in sorted_key_list:\n",
    "                sorted_key_list.append(key)\n",
    "    return sorted_key_list"
   ]
  },
  {
   "cell_type": "code",
   "execution_count": 118,
   "metadata": {},
   "outputs": [],
   "source": [
    "sorted_weight_dict = sort_key_list(weight_dict)\n",
    "sorted_yarn_dict = sort_key_list(yarn_dict)"
   ]
  },
  {
   "cell_type": "code",
   "execution_count": 119,
   "metadata": {
    "scrolled": true
   },
   "outputs": [
    {
     "name": "stdout",
     "output_type": "stream",
     "text": [
      "On average, which yarn is more expensive?\n",
      "\n",
      "Average price of silk: $ 8.71\n",
      "Average price of wool: $ 9.09\n",
      "Average price of polyester: $ 7.8\n",
      "Average price of bamboo: $ 10.89\n",
      "Average price of cashmere: $ 12.51\n",
      "Average price of cotton: $ 9.58\n",
      "Average price of luxury: $ 12.08\n",
      "\n",
      "Which yarn is most expensive?\n",
      "cashmere yarn\n",
      "\n",
      "Which weight of yarn is most common?\n",
      "DK weight\n"
     ]
    }
   ],
   "source": [
    "print(\"On average, which yarn is more expensive?\")\n",
    "print('')\n",
    "print(\"Average price of silk: $\", pretty_silk)\n",
    "print(\"Average price of wool: $\", pretty_wool)\n",
    "print('Average price of polyester: $', pretty_poly)\n",
    "print('Average price of bamboo: $', pretty_bamboo)\n",
    "print('Average price of cashmere: $', pretty_cash)\n",
    "print('Average price of cotton: $', pretty_cotton)\n",
    "print('Average price of luxury: $', pretty_lux)\n",
    "print('')\n",
    "\n",
    "print('Which yarn is most expensive?')\n",
    "print(sorted_yarn_dict[0], 'yarn')\n",
    "print('')\n",
    "print(\"Which weight of yarn is most common?\")\n",
    "print(sorted_weight_dict[0], 'weight')\n",
    "#for item in sorted_weight_dict:\n",
    " #   print(item, ':',weight_dict[item], sep='')"
   ]
  },
  {
   "cell_type": "code",
   "execution_count": 120,
   "metadata": {},
   "outputs": [],
   "source": [
    "with open('yarndict.csv', 'w') as y:\n",
    "    fnames = ['silk', 'wool', 'polyester', 'bamboo', 'cashmere', 'cotton', 'luxury']\n",
    "    writer = csv.DictWriter(y, fieldnames=fnames)\n",
    "    writer.writeheader()\n",
    "    writer.writerow(yarn_dict)"
   ]
  },
  {
   "cell_type": "code",
   "execution_count": null,
   "metadata": {},
   "outputs": [],
   "source": []
  }
 ],
 "metadata": {
  "kernelspec": {
   "display_name": "Python 3",
   "language": "python",
   "name": "python3"
  },
  "language_info": {
   "codemirror_mode": {
    "name": "ipython",
    "version": 3
   },
   "file_extension": ".py",
   "mimetype": "text/x-python",
   "name": "python",
   "nbconvert_exporter": "python",
   "pygments_lexer": "ipython3",
   "version": "3.7.4"
  }
 },
 "nbformat": 4,
 "nbformat_minor": 2
}
