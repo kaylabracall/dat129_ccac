{
 "cells": [
  {
   "cell_type": "code",
   "execution_count": 50,
   "metadata": {},
   "outputs": [
    {
     "name": "stdout",
     "output_type": "stream",
     "text": [
      "What is the most common marine mammal spotted in the state of Washington?\n"
     ]
    }
   ],
   "source": [
    "import json, requests\n",
    "\n",
    "def print_result():\n",
    "    apiURL = 'http://hotline.whalemuseum.org/api.json?limit=1000&until=today'\n",
    "    result = animal_count(apiURL)\n",
    "    print(result)\n"
   ]
  },
  {
   "cell_type": "code",
   "execution_count": 55,
   "metadata": {},
   "outputs": [],
   "source": [
    "import json, requests\n",
    "\n",
    "def animal_count(url):\n",
    "    # initialize counters \n",
    "    orca_counter = 0\n",
    "    gray_whale_counter = 0\n",
    "    aws_dolphin_counter = 0\n",
    "    pws_dolphin_counter = 0\n",
    "    harbor_porpoise_counter = 0\n",
    "    harbor_seal_counter = 0\n",
    "    ne_seal_counter = 0\n",
    "    stellar_sealion_counter = 0\n",
    "    sea_otter_counter = 0\n",
    "    \n",
    "    mammal_dict = {'orca': 0, 'atlantic white-sided dolphin': 0, 'gray whale': 0, 'pacific white-sided dolphin': 0, \n",
    "    'harbor porpoise': 0, 'harbor seal': 0, 'northern elephant seal': 0, 'steller sea lion': 0, 'sea otter': 0}\n",
    "    \n",
    "    # check success status\n",
    "    if(int(req.status_code) == 200):\n",
    "        apiDict = json.loads(req.text)\n",
    "        # iterate over species field\n",
    "        for sighting in apiDict:\n",
    "            species_name = sighting['species']\n",
    "            # for loop to count species types \n",
    "            # for species in species_count:\n",
    "            if species_name == 'orca':\n",
    "                orca_counter +=1\n",
    "            elif species == 'atlantic white-sided dolphin':\n",
    "                aws_dolphin_counter +=1 \n",
    "            elif species == 'gray whale':\n",
    "                gray_whale_counter += 1\n",
    "            elif species == 'pacific white-sided dolphin':\n",
    "                pws_dolphin_counter +=1\n",
    "            elif species == 'harbor porpoise':\n",
    "                harbor_porpoise_counter +=1\n",
    "            elif species == 'harbor seal':\n",
    "                harbor_seal_counter +=1\n",
    "            elif species == 'northern elephant seal':\n",
    "                ne_seal_counter +=1\n",
    "            elif species == 'steller sea lion':\n",
    "                stellar_sealion_counter +=1\n",
    "            elif species == 'sea otter':\n",
    "                sea_otter_counter +=1   \n",
    "                \n",
    "          #  animal_list = [orca_counter, aws_dolphin_counter, gray_whale_counter, pws_dolphin_counter, harbor_porpoise_counter, \n",
    "          #                harbor_seal_counter, ne_seal_counter, stellar_sealion_counter, sea_otter_counter]\n",
    "\n",
    "          #  most_common_mammal = max(animal_list)\n",
    "        \n",
    "    return most_common_mammal\n",
    "    \n",
    "    \n"
   ]
  },
  {
   "cell_type": "code",
   "execution_count": 57,
   "metadata": {
    "scrolled": true
   },
   "outputs": [],
   "source": [
    "def main():\n",
    "    print(\"What is the most common marine mammal spotted in the state of Washington?\") \n",
    "    print_result()"
   ]
  },
  {
   "cell_type": "code",
   "execution_count": 59,
   "metadata": {},
   "outputs": [
    {
     "name": "stdout",
     "output_type": "stream",
     "text": [
      "What is the most common marine mammal spotted in the state of Washington?\n"
     ]
    },
    {
     "ename": "TypeError",
     "evalue": "'int' object is not iterable",
     "output_type": "error",
     "traceback": [
      "\u001b[1;31m---------------------------------------------------------------------------\u001b[0m",
      "\u001b[1;31mTypeError\u001b[0m                                 Traceback (most recent call last)",
      "\u001b[1;32m<ipython-input-59-263240bbee7e>\u001b[0m in \u001b[0;36m<module>\u001b[1;34m\u001b[0m\n\u001b[1;32m----> 1\u001b[1;33m \u001b[0mmain\u001b[0m\u001b[1;33m(\u001b[0m\u001b[1;33m)\u001b[0m\u001b[1;33m\u001b[0m\u001b[1;33m\u001b[0m\u001b[0m\n\u001b[0m",
      "\u001b[1;32m<ipython-input-57-d2848f21e143>\u001b[0m in \u001b[0;36mmain\u001b[1;34m()\u001b[0m\n\u001b[0;32m      1\u001b[0m \u001b[1;32mdef\u001b[0m \u001b[0mmain\u001b[0m\u001b[1;33m(\u001b[0m\u001b[1;33m)\u001b[0m\u001b[1;33m:\u001b[0m\u001b[1;33m\u001b[0m\u001b[1;33m\u001b[0m\u001b[0m\n\u001b[0;32m      2\u001b[0m     \u001b[0mprint\u001b[0m\u001b[1;33m(\u001b[0m\u001b[1;34m\"What is the most common marine mammal spotted in the state of Washington?\"\u001b[0m\u001b[1;33m)\u001b[0m\u001b[1;33m\u001b[0m\u001b[1;33m\u001b[0m\u001b[0m\n\u001b[1;32m----> 3\u001b[1;33m     \u001b[0mprint_result\u001b[0m\u001b[1;33m(\u001b[0m\u001b[1;33m)\u001b[0m\u001b[1;33m\u001b[0m\u001b[1;33m\u001b[0m\u001b[0m\n\u001b[0m",
      "\u001b[1;32m<ipython-input-50-ee6c1d598da8>\u001b[0m in \u001b[0;36mprint_result\u001b[1;34m()\u001b[0m\n\u001b[0;32m      6\u001b[0m \u001b[1;32mdef\u001b[0m \u001b[0mprint_result\u001b[0m\u001b[1;33m(\u001b[0m\u001b[1;33m)\u001b[0m\u001b[1;33m:\u001b[0m\u001b[1;33m\u001b[0m\u001b[1;33m\u001b[0m\u001b[0m\n\u001b[0;32m      7\u001b[0m     \u001b[0mapiURL\u001b[0m \u001b[1;33m=\u001b[0m \u001b[1;34m'http://hotline.whalemuseum.org/api.json?limit=1000&until=today'\u001b[0m\u001b[1;33m\u001b[0m\u001b[1;33m\u001b[0m\u001b[0m\n\u001b[1;32m----> 8\u001b[1;33m     \u001b[0mresult\u001b[0m \u001b[1;33m=\u001b[0m \u001b[0manimal_count\u001b[0m\u001b[1;33m(\u001b[0m\u001b[0mapiURL\u001b[0m\u001b[1;33m)\u001b[0m\u001b[1;33m\u001b[0m\u001b[1;33m\u001b[0m\u001b[0m\n\u001b[0m\u001b[0;32m      9\u001b[0m     \u001b[0mprint\u001b[0m\u001b[1;33m(\u001b[0m\u001b[0mresult\u001b[0m\u001b[1;33m)\u001b[0m\u001b[1;33m\u001b[0m\u001b[1;33m\u001b[0m\u001b[0m\n",
      "\u001b[1;32m<ipython-input-55-38e328fd1fb9>\u001b[0m in \u001b[0;36manimal_count\u001b[1;34m(url)\u001b[0m\n\u001b[0;32m     17\u001b[0m         \u001b[0mapiDict\u001b[0m \u001b[1;33m=\u001b[0m \u001b[0mjson\u001b[0m\u001b[1;33m.\u001b[0m\u001b[0mloads\u001b[0m\u001b[1;33m(\u001b[0m\u001b[0mreq\u001b[0m\u001b[1;33m.\u001b[0m\u001b[0mtext\u001b[0m\u001b[1;33m)\u001b[0m\u001b[1;33m\u001b[0m\u001b[1;33m\u001b[0m\u001b[0m\n\u001b[0;32m     18\u001b[0m         \u001b[1;31m# iterate over species field\u001b[0m\u001b[1;33m\u001b[0m\u001b[1;33m\u001b[0m\u001b[1;33m\u001b[0m\u001b[0m\n\u001b[1;32m---> 19\u001b[1;33m         \u001b[1;32mfor\u001b[0m \u001b[0msighting\u001b[0m \u001b[1;32min\u001b[0m \u001b[0mapiDict\u001b[0m\u001b[1;33m:\u001b[0m\u001b[1;33m\u001b[0m\u001b[1;33m\u001b[0m\u001b[0m\n\u001b[0m\u001b[0;32m     20\u001b[0m             \u001b[0mspecies_name\u001b[0m \u001b[1;33m=\u001b[0m \u001b[0msighting\u001b[0m\u001b[1;33m[\u001b[0m\u001b[1;34m'species'\u001b[0m\u001b[1;33m]\u001b[0m\u001b[1;33m\u001b[0m\u001b[1;33m\u001b[0m\u001b[0m\n\u001b[0;32m     21\u001b[0m             \u001b[1;31m# for loop to count species types\u001b[0m\u001b[1;33m\u001b[0m\u001b[1;33m\u001b[0m\u001b[1;33m\u001b[0m\u001b[0m\n",
      "\u001b[1;31mTypeError\u001b[0m: 'int' object is not iterable"
     ]
    }
   ],
   "source": [
    "main()"
   ]
  },
  {
   "cell_type": "code",
   "execution_count": null,
   "metadata": {},
   "outputs": [],
   "source": []
  }
 ],
 "metadata": {
  "kernelspec": {
   "display_name": "Python 3",
   "language": "python",
   "name": "python3"
  },
  "language_info": {
   "codemirror_mode": {
    "name": "ipython",
    "version": 3
   },
   "file_extension": ".py",
   "mimetype": "text/x-python",
   "name": "python",
   "nbconvert_exporter": "python",
   "pygments_lexer": "ipython3",
   "version": "3.7.4"
  }
 },
 "nbformat": 4,
 "nbformat_minor": 2
}
