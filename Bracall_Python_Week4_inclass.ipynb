{
 "cells": [
  {
   "cell_type": "code",
   "execution_count": 6,
   "metadata": {},
   "outputs": [
    {
     "name": "stdout",
     "output_type": "stream",
     "text": [
      "{'Branching': ['branch', 'checkout'], 'Remotes': ['remote add', 'pull', 'push', 'fetch'], 'Commits': ['add', 'commit', 'checkout']}\n"
     ]
    }
   ],
   "source": [
    "# sample read in and out of JSON to and from text file\n",
    "import json\n",
    "with open ('testfile.json') as jsontest:\n",
    "    gitkeywords = json.load(jsontest)\n",
    "    print(gitkeywords)\n"
   ]
  },
  {
   "cell_type": "code",
   "execution_count": 9,
   "metadata": {},
   "outputs": [],
   "source": [
    "# encode python object as JSON and write to a file\n",
    "projects = {}\n",
    "projects[\"group1\"] = [\"Dan\", 'Eric1', 'Eric2', 'Eric3']\n",
    "projects['group2'] = (\"Zach\", \"Taichi\", \"Joel\")\n",
    "projects['unallocated'] = 452\n",
    "#print(projects)\n",
    "\n",
    "with open ('groups.json', 'w') as groupfile:\n",
    "    #argument 1 is the object to serialize, argument 2 is the file \n",
    "    json.dump(projects, groupfile)"
   ]
  },
  {
   "cell_type": "code",
   "execution_count": null,
   "metadata": {},
   "outputs": [],
   "source": []
  }
 ],
 "metadata": {
  "kernelspec": {
   "display_name": "Python 3",
   "language": "python",
   "name": "python3"
  },
  "language_info": {
   "codemirror_mode": {
    "name": "ipython",
    "version": 3
   },
   "file_extension": ".py",
   "mimetype": "text/x-python",
   "name": "python",
   "nbconvert_exporter": "python",
   "pygments_lexer": "ipython3",
   "version": "3.7.4"
  }
 },
 "nbformat": 4,
 "nbformat_minor": 2
}
