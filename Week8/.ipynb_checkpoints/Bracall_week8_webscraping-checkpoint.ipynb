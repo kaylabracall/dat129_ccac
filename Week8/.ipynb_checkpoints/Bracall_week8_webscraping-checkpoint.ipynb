{
 "cells": [
  {
   "cell_type": "code",
   "execution_count": 77,
   "metadata": {},
   "outputs": [],
   "source": [
    "import urllib\n",
    "from bs4 import BeautifulSoup\n",
    "# getting html from search results at ravelery.com for both knitting and crochet patterns\n",
    "\n",
    "def getSearchURL_silk(term):\n",
    "    url = 'https://www.yarn.com/categories/silk-yarn' \n",
    "    return url\n",
    "\n",
    "def getSearchURL_wool(term):\n",
    "    url = 'https://www.yarn.com/categories/wool-yarn'\n",
    "    return url \n",
    "\n",
    "def getPageText(url):\n",
    "    req = urllib.request.Request(url)\n",
    "    with urllib.request.urlopen(req) as response:\n",
    "        return response.read()"
   ]
  },
  {
   "cell_type": "code",
   "execution_count": 78,
   "metadata": {},
   "outputs": [],
   "source": [
    "pageText = getPageText(getSearchURL_silk('silk'))\n",
    "soup = BeautifulSoup(pageText, 'html.parser')\n",
    "# print(soup)\n",
    "s = soup.find_all('div','product-prices__price')\n",
    "silk_count = 0\n",
    "total_price = 0\n",
    "\n",
    "for item in s:\n",
    "    price = item.find('span', None)\n",
    "    if price:\n",
    "        silk_count = silk_count +1 # increase counter\n",
    "        price_variable = price.text\n",
    "        price_num = float(price_variable.replace('$','')) # cast to float and replace the $ with an empty string\n",
    "        total_price = total_price + price_num\n",
    "    else:\n",
    "        continue\n",
    "        \n",
    "silk_average_price = float(total_price)/silk_count\n",
    "pretty_silk = round(silk_average_price, 2)"
   ]
  },
  {
   "cell_type": "code",
   "execution_count": 79,
   "metadata": {},
   "outputs": [
    {
     "name": "stdout",
     "output_type": "stream",
     "text": [
      "123.55999999999999\n",
      "12\n"
     ]
    }
   ],
   "source": [
    "# should be scraping from https://www.ravelry.com/patterns/search#query=crochet&sort=best&view=captioned_thumbs&page=1 \n",
    "\n",
    "pageText = getPageText(getSearchURL_wool('wool'))\n",
    "soup = BeautifulSoup(pageText, 'html.parser')\n",
    "s = soup.find_all('div','product-prices__price')\n",
    "wool_count = 0\n",
    "tot_price = 0\n",
    "\n",
    "\n",
    "for item in s:\n",
    "    price = item.find('span', None)\n",
    "    if price:\n",
    "        wool_count = wool_count +1 # increase counter\n",
    "        price_variable = price.text\n",
    "        price_num = float(price_variable.replace('$','')) # cast to float and replace the $ with an empty string\n",
    "        tot_price = tot_price + price_num\n",
    "    else:\n",
    "        continue\n",
    "        \n",
    "print(str(tot_price))\n",
    "print(wool_count)\n",
    "\n",
    "wool_average_price = float(tot_price)/wool_count\n",
    "pretty_wool = round(wool_average_price, 2)\n"
   ]
  },
  {
   "cell_type": "code",
   "execution_count": 83,
   "metadata": {},
   "outputs": [
    {
     "name": "stdout",
     "output_type": "stream",
     "text": [
      "On average, which yarn is more expensive? Silk or wool?\n",
      "\n",
      "Average price of silk: $ 8.02\n",
      "Average price of wool: $ 10.3\n",
      "\n",
      "On average, wool is more expensive\n"
     ]
    }
   ],
   "source": [
    "print(\"On average, which yarn is more expensive? Silk or wool?\")\n",
    "print('')\n",
    "print(\"Average price of silk: $\", pretty_silk)\n",
    "print(\"Average price of wool: $\", pretty_wool)\n",
    "print('')\n",
    "if pretty_silk > pretty_wool:\n",
    "    print('On avereage, silk is more expensive.')\n",
    "elif pretty_wool > pretty_silk:\n",
    "    print('On average, wool is more expensive.')\n",
    "elif pretty_silk == pretty_wool:\n",
    "    print(\"Silk and wool have the same average price.\")\n",
    "else:\n",
    "    print(\"this should not print\")"
   ]
  },
  {
   "cell_type": "code",
   "execution_count": null,
   "metadata": {},
   "outputs": [],
   "source": []
  }
 ],
 "metadata": {
  "kernelspec": {
   "display_name": "Python 3",
   "language": "python",
   "name": "python3"
  },
  "language_info": {
   "codemirror_mode": {
    "name": "ipython",
    "version": 3
   },
   "file_extension": ".py",
   "mimetype": "text/x-python",
   "name": "python",
   "nbconvert_exporter": "python",
   "pygments_lexer": "ipython3",
   "version": "3.7.4"
  }
 },
 "nbformat": 4,
 "nbformat_minor": 2
}
